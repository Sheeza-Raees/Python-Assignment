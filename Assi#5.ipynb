{
 "cells": [
  {
   "cell_type": "code",
   "execution_count": 13,
   "metadata": {},
   "outputs": [
    {
     "name": "stdout",
     "output_type": "stream",
     "text": [
      "The string is a palindrome.\n"
     ]
    }
   ],
   "source": [
    "#checking whether a passed string is palindrome or not\n",
    "def palindrome_func(word):\n",
    "    word = word.casefold()\n",
    "    rev_word = reversed(word)\n",
    "    if list(word) == list(rev_word):\n",
    "        print(\"The string is a palindrome.\")\n",
    "    else:\n",
    "        print(\"The string is not a palindrome.\")\n",
    "palindrome_func('radar')\n"
   ]
  },
  {
   "cell_type": "code",
   "execution_count": 7,
   "metadata": {},
   "outputs": [
    {
     "name": "stdout",
     "output_type": "stream",
     "text": [
      "4 is not a prime number\n"
     ]
    }
   ],
   "source": [
    "#Python function to check the parameter is prime number or not\n",
    "def prime_func(num):\n",
    "    if num > 1:\n",
    "        for i in range(2,num):\n",
    "            if (num % i) == 0:\n",
    "                print(num,\"is not a prime number\")\n",
    "                break\n",
    "            else:\n",
    "                print(num,\"is a prime number\")\n",
    "prime_func(4)\n",
    "       \n"
   ]
  },
  {
   "cell_type": "code",
   "execution_count": 10,
   "metadata": {},
   "outputs": [
    {
     "name": "stdout",
     "output_type": "stream",
     "text": [
      "Original String :  GooD LuCK\n",
      "No. of Upper case characters :  5\n",
      "No. of Lower case Characters : 3\n"
     ]
    }
   ],
   "source": [
    "#Calculation of upper and lower case letters\n",
    "def string_test(s):\n",
    "    x={\"Upper Case\":0, \"Lower Case\":0}\n",
    "    for check in s:\n",
    "        if check.isupper():\n",
    "           x[\"Upper Case\"]+=1\n",
    "        elif check.islower():\n",
    "           x[\"Lower Case\"]+=1\n",
    "        else:\n",
    "           pass\n",
    "    print (\"Original String : \", s)\n",
    "    print (\"No. of Upper case characters : \", x[\"Upper Case\"])\n",
    "    print (\"No. of Lower case Characters :\", x[\"Lower Case\"])\n",
    "\n",
    "string_test(\"GooD LuCK\")"
   ]
  },
  {
   "cell_type": "code",
   "execution_count": 11,
   "metadata": {},
   "outputs": [
    {
     "name": "stdout",
     "output_type": "stream",
     "text": [
      "The factorial is 5040\n"
     ]
    }
   ],
   "source": [
    "#Python Function to calculate Factorial of a number\n",
    "def fac(n):\n",
    "    if n==1:\n",
    "        return n\n",
    "    elif n<0:\n",
    "        print(\"The factorial doesnot exist\")\n",
    "    elif n==0:\n",
    "        print(\"The factorial of 0 is 1\")\n",
    "    else:\n",
    "        return n*fac(n-1)\n",
    "fac(7)\n",
    "print(\"The factorial is\", fac(7))\n"
   ]
  },
  {
   "cell_type": "code",
   "execution_count": 12,
   "metadata": {},
   "outputs": [
    {
     "name": "stdout",
     "output_type": "stream",
     "text": [
      "The Even Numbers in list are:\n",
      "2 4 6 8 10 "
     ]
    }
   ],
   "source": [
    "#Python function to print the even numbers from a given list\n",
    "def even_test():\n",
    "    list1=[2,3,4,5,6,7,8,9,10]\n",
    "    print(\"The Even Numbers in list are:\")\n",
    "    for num in list1:\n",
    "        if num % 2 == 0:\n",
    "            print(num, end= \" \")\n",
    "even_test()\n",
    "\n",
    "        "
   ]
  },
  {
   "cell_type": "code",
   "execution_count": 17,
   "metadata": {},
   "outputs": [
    {
     "name": "stdout",
     "output_type": "stream",
     "text": [
      "The shopping cart contains: \n",
      "\n",
      "=> Chocolates\n",
      "=> Vegetables\n",
      "=> Fruits\n",
      "=> Drinks\n"
     ]
    }
   ],
   "source": [
    "#Python function for adding items in list through multiple arguments\n",
    "def shopping_list( *para):\n",
    "    print(\"The shopping cart contains: \\n\")\n",
    "    for param in para:\n",
    "        print(param)\n",
    "shopping_list(\"=> Chocolates\",\"=> Vegetables\",\"=> Fruits\",\"=> Drinks\")"
   ]
  },
  {
   "cell_type": "code",
   "execution_count": null,
   "metadata": {},
   "outputs": [],
   "source": []
  }
 ],
 "metadata": {
  "kernelspec": {
   "display_name": "Python 3",
   "language": "python",
   "name": "python3"
  }
 },
 "nbformat": 4,
 "nbformat_minor": 2
}
