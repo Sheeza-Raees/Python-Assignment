{
 "cells": [
  {
   "cell_type": "code",
   "execution_count": 58,
   "metadata": {},
   "outputs": [
    {
     "name": "stdout",
     "output_type": "stream",
     "text": [
      "Enter First Value = 4\n",
      "Enter Operator**\n",
      "Enter Second Value = 2\n",
      "Your answer is: 16\n"
     ]
    }
   ],
   "source": [
    "#(1)_Calculator\n",
    "a=int(input(\"Enter First Value = \"))\n",
    "b=input(\"Enter Operator\")\n",
    "c=int(input(\"Enter Second Value = \"))\n",
    "if b== '+' :\n",
    "    Ans1=a+c\n",
    "    print(\"Your answer is :\", Ans1)\n",
    "elif b=='-':\n",
    "    Ans2=a-c\n",
    "    print(\"Your answer is :\", Ans2)\n",
    "elif b=='*':\n",
    "    Ans3=a*c\n",
    "    print(\"Your answer is :\", Ans3)\n",
    "elif b=='/':\n",
    "    Ans4=a/c\n",
    "    print(\"Your answer is :\", Ans4)\n",
    "elif b=='**':\n",
    "    Ans5=a**c\n",
    "    print(\"Your answer is:\" , Ans5)\n",
    "else:\n",
    "    print(\"Inappropraite operator\")\n",
    "\n"
   ]
  },
  {
   "cell_type": "code",
   "execution_count": 64,
   "metadata": {},
   "outputs": [
    {
     "name": "stdout",
     "output_type": "stream",
     "text": [
      "{'Name': 'John', 'Age': 25, 'Height': 5, 'Origin': 'USA', 'Profession': 'Teacher'}\n"
     ]
    }
   ],
   "source": [
    "#(3)_Adding key to a dictionary!\n",
    "Bio_data={\"Name\":\"John\", \"Age\":25, \"Height\":5,\"Origin\":\"USA\"}\n",
    "Bio_data[\"Profession\"]=\"Teacher\"\n",
    "print(Bio_data)"
   ]
  },
  {
   "cell_type": "code",
   "execution_count": 25,
   "metadata": {},
   "outputs": [
    {
     "name": "stdout",
     "output_type": "stream",
     "text": [
      "Enter the key = a\n",
      "Key is present and value of key is\n",
      "1\n"
     ]
    }
   ],
   "source": [
    "#(6)Checking Key in Dictionary\n",
    "x={\"a\":1,\"b\":2,\"c\":3}\n",
    "key=input(\"Enter the key = \")\n",
    "if key in x.keys():\n",
    "    print(\"Key is present and value of key is\")\n",
    "    print(x[key])\n",
    "    "
   ]
  },
  {
   "cell_type": "code",
   "execution_count": null,
   "metadata": {},
   "outputs": [],
   "source": []
  },
  {
   "cell_type": "code",
   "execution_count": 19,
   "metadata": {},
   "outputs": [
    {
     "name": "stdout",
     "output_type": "stream",
     "text": [
      "No integer\n",
      "No integer\n",
      "There is an integer\n",
      "No integer\n"
     ]
    }
   ],
   "source": [
    "#(2)_Numeric Value in list\n",
    "seasons=[\"summer\",\"winter\",50,\"spring\"]\n",
    "for check in seasons:\n",
    "    if type(check)==int:\n",
    "        print(\"There is an integer\")\n",
    "    else:\n",
    "        print(\"No integer\")\n",
    "        "
   ]
  },
  {
   "cell_type": "code",
   "execution_count": 106,
   "metadata": {},
   "outputs": [
    {
     "name": "stdout",
     "output_type": "stream",
     "text": [
      "11\n"
     ]
    }
   ],
   "source": [
    "#(4)_Sum of Numeric items in Dictionary!\n",
    "x = {\"a\": 5, \"b\": 1, \"c\": 2, \"d\": 3}\n",
    "def scrabble_score(x):\n",
    "    sum = 0\n",
    "    y = x.lower()\n",
    "for i in x:\n",
    "    sum1 += x[i]\n",
    "print(sum1)"
   ]
  },
  {
   "cell_type": "code",
   "execution_count": 139,
   "metadata": {},
   "outputs": [
    {
     "name": "stdout",
     "output_type": "stream",
     "text": [
      "Yes, list contains duplicates\n"
     ]
    }
   ],
   "source": [
    "list1 = [\"sindh\",\"punjab\",\"sindh\",7,\"kpk\",\"5\",7]\n",
    " \n",
    "result = checkIfDuplicates_1(list1)\n",
    " \n",
    "if result:\n",
    "    print('Yes, list contains duplicates')\n",
    "else:\n",
    "    print('No duplicates found in list')"
   ]
  },
  {
   "cell_type": "code",
   "execution_count": null,
   "metadata": {},
   "outputs": [],
   "source": []
  }
 ],
 "metadata": {
  "kernelspec": {
   "display_name": "Python 3",
   "language": "python",
   "name": "python3"
  },
  "language_info": {
   "codemirror_mode": {
    "name": "ipython",
    "version": 3
   },
   "file_extension": ".py",
   "mimetype": "text/x-python",
   "name": "python",
   "nbconvert_exporter": "python",
   "pygments_lexer": "ipython3",
   "version": "3.7.4"
  }
 },
 "nbformat": 4,
 "nbformat_minor": 2
}
