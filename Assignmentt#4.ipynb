{
 "cells": [
  {
   "cell_type": "code",
   "execution_count": null,
   "metadata": {},
   "outputs": [],
   "source": []
  },
  {
   "cell_type": "code",
   "execution_count": 2,
   "metadata": {},
   "outputs": [
    {
     "name": "stdout",
     "output_type": "stream",
     "text": [
      "Person's Information:\n",
      "Ali\n",
      "Khan\n",
      "20\n",
      "Karachi\n",
      "\n",
      "\n",
      "Updated Information is :\n",
      "Ali\n",
      "Khan\n",
      "20\n",
      "Karachi\n",
      "Bachelors\n",
      "\n",
      "\n",
      "Updated qualification is:\n",
      "Ali\n",
      "Khan\n",
      "20\n",
      "Karachi\n",
      "Masters\n",
      "\n",
      "\n",
      "After deleting qualification :\n",
      "Ali\n",
      "Khan\n",
      "20\n",
      "Karachi\n"
     ]
    }
   ],
   "source": [
    "#Question_1\n",
    "print(\"Person's Information:\")\n",
    "information = {\"First_name\":\"Ali\",\n",
    "               \"Last_name\":\"Khan\",\n",
    "               \"Age\":20 ,\n",
    "               \"City_name\":\"Karachi\" }\n",
    "for each_information in information.values():\n",
    "    print(each_information)\n",
    "information[\"qualification\"]=\"Bachelors\"\n",
    "print(\"\\n\")\n",
    "print(\"Updated Information is :\")\n",
    "for each_information in information.values():\n",
    "    print(each_information)\n",
    "information[\"qualification\"]=\"Masters\"\n",
    "print(\"\\n\")\n",
    "print(\"Updated qualification is:\")\n",
    "for each_information in information.values():\n",
    "    print(each_information)\n",
    "del information[\"qualification\"]\n",
    "print(\"\\n\")\n",
    "print(\"After deleting qualification :\")\n",
    "for each_information in information.values():\n",
    "    print(each_information)"
   ]
  },
  {
   "cell_type": "code",
   "execution_count": null,
   "metadata": {},
   "outputs": [],
   "source": []
  },
  {
   "cell_type": "code",
   "execution_count": 96,
   "metadata": {},
   "outputs": [
    {
     "name": "stdout",
     "output_type": "stream",
     "text": [
      "karachi{'country': 'Pakistan', 'Population': 15741000, 'facts': 'Famous as City of Lights'}\n",
      "Lahore{'country': 'Pakistan', 'Population': 12188000, 'Facts': 'Lahore is called City of Gardens '}\n",
      "Sialkot{'country': 'Pakistan', 'Population': 477396, 'Facts': \" Famous for making sport's goods\"}\n"
     ]
    }
   ],
   "source": [
    "#Question_2\n",
    "Cities={\n",
    "    \"karachi\": {\"country\":\"Pakistan\",\n",
    "        \"Population\": 15741000 ,\n",
    "        \"facts\":\"Famous as City of Lights\"},\n",
    "    \"Lahore\": {\"country\":\"Pakistan\",\n",
    "            \"Population\": 12188000 ,\n",
    "            \"Facts\":\"Lahore is called City of Gardens \"} ,\n",
    "    \"Sialkot\": {\"country\":\"Pakistan\",\n",
    "             \"Population\":477396  ,\n",
    "             \"Facts\":\" Famous for making sport's goods\"}}\n",
    "for each_key,each_value in Cities.items():\n",
    "    print( each_key + str(each_value))"
   ]
  },
  {
   "cell_type": "code",
   "execution_count": 1,
   "metadata": {},
   "outputs": [
    {
     "name": "stdin",
     "output_type": "stream",
     "text": [
      "Enter your age 12\n"
     ]
    },
    {
     "name": "stdout",
     "output_type": "stream",
     "text": [
      "You have to pay $10\n"
     ]
    }
   ],
   "source": [
    "#Question_3\n",
    "age=int(input(\"Enter your age\"))\n",
    "while True:\n",
    "    if age<3:\n",
    "        print(\"You are free to enter\")\n",
    "        break\n",
    "    elif age==3 or age<=12:\n",
    "        print(\"You have to pay $10\")\n",
    "        break\n",
    "    else:\n",
    "        print(\"Pay $15\")\n",
    "        break"
   ]
  },
  {
   "cell_type": "code",
   "execution_count": 1,
   "metadata": {},
   "outputs": [
    {
     "name": "stdout",
     "output_type": "stream",
     "text": [
      "one of my favourite book is : Alice in WonderLand\n"
     ]
    }
   ],
   "source": [
    "#question_4\n",
    "def favourite_book(title):\n",
    "    print(\"one of my favourite book is :\", title)\n",
    "    return None\n",
    "favourite_book(\"Alice in WonderLand\")"
   ]
  },
  {
   "cell_type": "code",
   "execution_count": 2,
   "metadata": {},
   "outputs": [
    {
     "name": "stdout",
     "output_type": "stream",
     "text": [
      "Get a number between 1 and 10 until to get it right:2\n",
      "Get a number between 1 and 10 until to get it right:4\n",
      "Get a number between 1 and 10 until to get it right:5\n",
      "Well guessed\n"
     ]
    }
   ],
   "source": [
    "#question_5\n",
    "import random\n",
    "target_num,guess_num=random.randint(1, 10), 0\n",
    "while target_num !=guess_num:\n",
    "    guess_num=int(input(\"Get a number between 1 and 10 until to get it right:\"))\n",
    "print(\"Well guessed\")\n"
   ]
  },
  {
   "cell_type": "code",
   "execution_count": null,
   "metadata": {},
   "outputs": [],
   "source": [
    "\n"
   ]
  },
  {
   "cell_type": "code",
   "execution_count": null,
   "metadata": {},
   "outputs": [],
   "source": []
  },
  {
   "cell_type": "code",
   "execution_count": null,
   "metadata": {},
   "outputs": [],
   "source": []
  }
 ],
 "metadata": {
  "kernelspec": {
   "display_name": "Python 3",
   "language": "python",
   "name": "python3"
  },
  "language_info": {
   "codemirror_mode": {
    "name": "ipython",
    "version": 3
   },
   "file_extension": ".py",
   "mimetype": "text/x-python",
   "name": "python",
   "nbconvert_exporter": "python",
   "pygments_lexer": "ipython3",
   "version": "3.7.4"
  }
 },
 "nbformat": 4,
 "nbformat_minor": 4
}
