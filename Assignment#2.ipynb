{
 "cells": [
  {
   "cell_type": "code",
   "execution_count": 5,
   "metadata": {},
   "outputs": [
    {
     "name": "stdout",
     "output_type": "stream",
     "text": [
      "Enter marks of English=20\n",
      "Enter marks of Mathematics=30\n",
      "Enter marks of Physics=60\n",
      "Enter marks of Chemistry=5\n",
      "Enter marks of Computer=12\n",
      "FAIL\n"
     ]
    }
   ],
   "source": [
    "s1=int(input(\"Enter marks of English=\"))\n",
    "s2=int(input(\"Enter marks of Mathematics=\"))\n",
    "s3=int(input(\"Enter marks of Physics=\"))\n",
    "s4=int(input(\"Enter marks of Chemistry=\"))\n",
    "s5=int(input(\"Enter marks of Computer=\"))\n",
    "per=((s1+s2+s3+s4+s5)*100)/500\n",
    "if per>=80 and per<=100:\n",
    "    print(\"You scored A1 grade\")\n",
    "elif per>=70 and per<80:\n",
    "    print(\"You scored A grade\")\n",
    "elif per>=60 and per<70:\n",
    "    print(\"You scored B grade\")\n",
    "elif per>=50 and per<60:\n",
    "    print(\"You scored C grade\")\n",
    "else:\n",
    "    print(\"FAIL\")\n"
   ]
  },
  {
   "cell_type": "code",
   "execution_count": 4,
   "metadata": {},
   "outputs": [
    {
     "name": "stdout",
     "output_type": "stream",
     "text": [
      "Enter the number: 5\n",
      "Odd\n"
     ]
    }
   ],
   "source": [
    "x=int(input(\"Enter the number: \"))\n",
    "a=int(x/2)*2\n",
    "if a==x:\n",
    "    print(\"Even\")\n",
    "else:\n",
    "    print(\"Odd\")"
   ]
  },
  {
   "cell_type": "code",
   "execution_count": 7,
   "metadata": {},
   "outputs": [
    {
     "name": "stdout",
     "output_type": "stream",
     "text": [
      "5\n"
     ]
    }
   ],
   "source": [
    "list=[\"Karachi\",\"Lahore\",\"Quetta\",\"Peshawar\",\"Multan\"]\n",
    "print(len(list))"
   ]
  },
  {
   "cell_type": "code",
   "execution_count": 10,
   "metadata": {},
   "outputs": [
    {
     "name": "stdout",
     "output_type": "stream",
     "text": [
      "150\n"
     ]
    }
   ],
   "source": [
    "arr=[10,20,30,40,50]\n",
    "print(arr[0]+arr[1]+arr[2]+arr[3]+arr[4])"
   ]
  },
  {
   "cell_type": "code",
   "execution_count": 15,
   "metadata": {},
   "outputs": [
    {
     "name": "stdout",
     "output_type": "stream",
     "text": [
      "30\n"
     ]
    }
   ],
   "source": [
    "list=[5,10,15,20,25,30]\n",
    "print(max(list))"
   ]
  },
  {
   "cell_type": "code",
   "execution_count": 24,
   "metadata": {},
   "outputs": [
    {
     "name": "stdout",
     "output_type": "stream",
     "text": [
      "1\n",
      "1\n",
      "2\n",
      "3\n"
     ]
    }
   ],
   "source": [
    "x=[1,1,2,3,5,8,13,21,34,55,89]\n",
    "for i in x:\n",
    "    if i<5:\n",
    "        print(x[i])\n",
    "\n",
    "    \n"
   ]
  },
  {
   "cell_type": "code",
   "execution_count": null,
   "metadata": {},
   "outputs": [],
   "source": []
  },
  {
   "cell_type": "code",
   "execution_count": null,
   "metadata": {},
   "outputs": [],
   "source": []
  }
 ],
 "metadata": {
  "kernelspec": {
   "display_name": "Python 3",
   "language": "python",
   "name": "python3"
  },
  "language_info": {
   "codemirror_mode": {
    "name": "ipython",
    "version": 3
   },
   "file_extension": ".py",
   "mimetype": "text/x-python",
   "name": "python",
   "nbconvert_exporter": "python",
   "pygments_lexer": "ipython3",
   "version": "3.7.4"
  }
 },
 "nbformat": 4,
 "nbformat_minor": 2
}
